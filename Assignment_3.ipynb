{
 "cells": [
  {
   "cell_type": "markdown",
   "id": "94631be7",
   "metadata": {},
   "source": [
    "Q1."
   ]
  },
  {
   "cell_type": "markdown",
   "id": "b79141c1",
   "metadata": {},
   "source": [
    "Function are advantageous to have in programs because it makes the programs shorter which makes it simpler to read . It reduce the duplicacy and make the code more organized . "
   ]
  },
  {
   "cell_type": "markdown",
   "id": "143f6e4d",
   "metadata": {},
   "source": [
    "Q2."
   ]
  },
  {
   "cell_type": "markdown",
   "id": "04560cb5",
   "metadata": {},
   "source": [
    "A code in a function run when it's called ."
   ]
  },
  {
   "cell_type": "markdown",
   "id": "e98e03ca",
   "metadata": {},
   "source": [
    "Q3."
   ]
  },
  {
   "cell_type": "markdown",
   "id": "2cb8cb0b",
   "metadata": {},
   "source": [
    "def statement creates a function ."
   ]
  },
  {
   "cell_type": "markdown",
   "id": "c40ac41f",
   "metadata": {},
   "source": [
    "Q4."
   ]
  },
  {
   "cell_type": "markdown",
   "id": "751f6b15",
   "metadata": {},
   "source": [
    "A function is a code that contains def statement , it does a operation which returns a result but a function call is an expression which contains function name followed by call operator() ."
   ]
  },
  {
   "cell_type": "markdown",
   "id": "ebbd5d09",
   "metadata": {},
   "source": [
    "Q5."
   ]
  },
  {
   "cell_type": "markdown",
   "id": "3da6e385",
   "metadata": {},
   "source": [
    "There is one global scopes in a python program and whenever a function is called a local scope get created . "
   ]
  },
  {
   "cell_type": "markdown",
   "id": "35ff6a0a",
   "metadata": {},
   "source": [
    "Q6."
   ]
  },
  {
   "cell_type": "markdown",
   "id": "e9eac2ed",
   "metadata": {},
   "source": [
    "When the function call returns , the variable in a local scope get destroyed or deleted ."
   ]
  },
  {
   "cell_type": "markdown",
   "id": "09146bef",
   "metadata": {},
   "source": [
    "Q7."
   ]
  },
  {
   "cell_type": "markdown",
   "id": "c2afe59f",
   "metadata": {},
   "source": [
    "The return value is the result the code returns after the function is called . Yes, it is possible to have a return value in an expression ."
   ]
  },
  {
   "cell_type": "markdown",
   "id": "52bfb58c",
   "metadata": {},
   "source": [
    "Q8."
   ]
  },
  {
   "cell_type": "markdown",
   "id": "8d8f8f0e",
   "metadata": {},
   "source": [
    "If a function does not have a return statement , the return value of a function call is None ."
   ]
  },
  {
   "cell_type": "markdown",
   "id": "2089f95b",
   "metadata": {},
   "source": [
    "Q9."
   ]
  },
  {
   "cell_type": "markdown",
   "id": "23ad3dbb",
   "metadata": {},
   "source": [
    "To make a function variable refer to global variable , we use the global keyword ."
   ]
  },
  {
   "cell_type": "markdown",
   "id": "7d2a9157",
   "metadata": {},
   "source": [
    "Q10."
   ]
  },
  {
   "cell_type": "markdown",
   "id": "8819d9ed",
   "metadata": {},
   "source": [
    "The data type of None is NoneType ."
   ]
  },
  {
   "cell_type": "markdown",
   "id": "09a5d422",
   "metadata": {},
   "source": [
    "Q11."
   ]
  },
  {
   "cell_type": "markdown",
   "id": "fe8a2eeb",
   "metadata": {},
   "source": [
    "The sentence import areallyourpetsnamederic imports a module name areallyourpetsnamederic ."
   ]
  },
  {
   "cell_type": "markdown",
   "id": "258df875",
   "metadata": {},
   "source": [
    "Q12."
   ]
  },
  {
   "cell_type": "markdown",
   "id": "f89daa68",
   "metadata": {},
   "source": [
    "If a bacon() feature in a spam module , after importing spam it can be called with spam.bacon() "
   ]
  },
  {
   "cell_type": "markdown",
   "id": "5a480d61",
   "metadata": {},
   "source": [
    "Q13."
   ]
  },
  {
   "cell_type": "markdown",
   "id": "db90a5b5",
   "metadata": {},
   "source": [
    "To save a program from crashing if it encounters an error , we can use try and except statements ."
   ]
  },
  {
   "cell_type": "markdown",
   "id": "7c30c2c2",
   "metadata": {},
   "source": [
    "Q14."
   ]
  },
  {
   "cell_type": "markdown",
   "id": "04409e02",
   "metadata": {},
   "source": [
    "The purpose of the try clause is to test a code of errors and except clause hansles the errors . "
   ]
  }
 ],
 "metadata": {
  "kernelspec": {
   "display_name": "Python 3 (ipykernel)",
   "language": "python",
   "name": "python3"
  },
  "language_info": {
   "codemirror_mode": {
    "name": "ipython",
    "version": 3
   },
   "file_extension": ".py",
   "mimetype": "text/x-python",
   "name": "python",
   "nbconvert_exporter": "python",
   "pygments_lexer": "ipython3",
   "version": "3.9.12"
  }
 },
 "nbformat": 4,
 "nbformat_minor": 5
}
