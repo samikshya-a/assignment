{
 "cells": [
  {
   "cell_type": "markdown",
   "id": "c84a9e51",
   "metadata": {},
   "source": [
    "Q1."
   ]
  },
  {
   "cell_type": "markdown",
   "id": "a1bef6a4",
   "metadata": {},
   "source": [
    "The two values of Boolean data type are True and False . The value returns as , True = 1 and False = 0 . To define a boolean we have to assign True or False to a variable or an expression which will evaluate a value . We can check the type of variable by a built in function ."
   ]
  },
  {
   "cell_type": "code",
   "execution_count": 1,
   "id": "5e02adba",
   "metadata": {},
   "outputs": [
    {
     "data": {
      "text/plain": [
       "True"
      ]
     },
     "execution_count": 1,
     "metadata": {},
     "output_type": "execute_result"
    }
   ],
   "source": [
    "1 == 1"
   ]
  },
  {
   "cell_type": "code",
   "execution_count": 3,
   "id": "a4e852e8",
   "metadata": {},
   "outputs": [
    {
     "data": {
      "text/plain": [
       "False"
      ]
     },
     "execution_count": 3,
     "metadata": {},
     "output_type": "execute_result"
    }
   ],
   "source": [
    "1<0"
   ]
  },
  {
   "cell_type": "markdown",
   "id": "b0ea1d0b",
   "metadata": {},
   "source": [
    "Q2."
   ]
  },
  {
   "cell_type": "markdown",
   "id": "839dbc82",
   "metadata": {},
   "source": [
    "The three different types of boolean operators are and , or and not . "
   ]
  },
  {
   "cell_type": "markdown",
   "id": "502a0464",
   "metadata": {},
   "source": [
    "Q3."
   ]
  },
  {
   "cell_type": "markdown",
   "id": "6d369f86",
   "metadata": {},
   "source": [
    "truth table of and                   truth table of or                truth table of not\n",
    "x    and    y    return              x    or    y    returns          not x    returns   \n",
    "True       True   True               True       True    True             True    False\n",
    "True       False  False              True       False   True             False   True\n",
    "False      True   False              False      True    True\n",
    "False      False  False              False      False   False"
   ]
  },
  {
   "cell_type": "markdown",
   "id": "4a191ab5",
   "metadata": {},
   "source": [
    "Q4."
   ]
  },
  {
   "cell_type": "code",
   "execution_count": 1,
   "id": "108791af",
   "metadata": {},
   "outputs": [
    {
     "data": {
      "text/plain": [
       "False"
      ]
     },
     "execution_count": 1,
     "metadata": {},
     "output_type": "execute_result"
    }
   ],
   "source": [
    "(5>4) and (3==5)"
   ]
  },
  {
   "cell_type": "code",
   "execution_count": 2,
   "id": "235e642f",
   "metadata": {},
   "outputs": [
    {
     "data": {
      "text/plain": [
       "False"
      ]
     },
     "execution_count": 2,
     "metadata": {},
     "output_type": "execute_result"
    }
   ],
   "source": [
    "not (5>4)"
   ]
  },
  {
   "cell_type": "code",
   "execution_count": 3,
   "id": "987fcca8",
   "metadata": {},
   "outputs": [
    {
     "data": {
      "text/plain": [
       "True"
      ]
     },
     "execution_count": 3,
     "metadata": {},
     "output_type": "execute_result"
    }
   ],
   "source": [
    "(5>4) or (3==5)"
   ]
  },
  {
   "cell_type": "code",
   "execution_count": 4,
   "id": "a90333fa",
   "metadata": {},
   "outputs": [
    {
     "data": {
      "text/plain": [
       "False"
      ]
     },
     "execution_count": 4,
     "metadata": {},
     "output_type": "execute_result"
    }
   ],
   "source": [
    "not ((5>4) or (3==5))"
   ]
  },
  {
   "cell_type": "code",
   "execution_count": 6,
   "id": "d82ac3b1",
   "metadata": {},
   "outputs": [
    {
     "data": {
      "text/plain": [
       "False"
      ]
     },
     "execution_count": 6,
     "metadata": {},
     "output_type": "execute_result"
    }
   ],
   "source": [
    "(True and True) and (True == False)"
   ]
  },
  {
   "cell_type": "code",
   "execution_count": 7,
   "id": "6d5c47a3",
   "metadata": {},
   "outputs": [
    {
     "data": {
      "text/plain": [
       "True"
      ]
     },
     "execution_count": 7,
     "metadata": {},
     "output_type": "execute_result"
    }
   ],
   "source": [
    "(not False) or (not True)"
   ]
  },
  {
   "cell_type": "markdown",
   "id": "e055c783",
   "metadata": {},
   "source": [
    "Q5."
   ]
  },
  {
   "cell_type": "markdown",
   "id": "be7e1b68",
   "metadata": {},
   "source": [
    "The six comparison operators are less than(<) , greater than(>) , less than or equal(<=) , greater than operator(>=) , equal to(==) , not equal(!=) . "
   ]
  },
  {
   "cell_type": "markdown",
   "id": "6f2a65d7",
   "metadata": {},
   "source": [
    "Q6."
   ]
  },
  {
   "cell_type": "markdown",
   "id": "78aa6156",
   "metadata": {},
   "source": [
    "The difference between equal to and assignment operator is , the equal to operator checks if the given operands are equal or not whereas the assignment operator is used to assign value to variable ."
   ]
  },
  {
   "cell_type": "code",
   "execution_count": 4,
   "id": "160a5107",
   "metadata": {},
   "outputs": [
    {
     "data": {
      "text/plain": [
       "False"
      ]
     },
     "execution_count": 4,
     "metadata": {},
     "output_type": "execute_result"
    }
   ],
   "source": [
    "a = 1\n",
    "b = 4\n",
    "a == b"
   ]
  },
  {
   "cell_type": "markdown",
   "id": "d7e3ac22",
   "metadata": {},
   "source": [
    "Q7."
   ]
  },
  {
   "cell_type": "code",
   "execution_count": 5,
   "id": "3c94c38f",
   "metadata": {},
   "outputs": [],
   "source": [
    "spam = 0\n",
    "if spam == 10:\n",
    "    print('eggs')      #block 1\n",
    "    if spam > 5:\n",
    "        print('bacon') #block 2\n",
    "    else:\n",
    "        print('ham')   #block 3\n",
    "        print('spam')\n",
    "        print('spam')\n",
    "        "
   ]
  },
  {
   "cell_type": "markdown",
   "id": "378e05b3",
   "metadata": {},
   "source": [
    "Q8."
   ]
  },
  {
   "cell_type": "code",
   "execution_count": 3,
   "id": "dc6d9531",
   "metadata": {},
   "outputs": [
    {
     "name": "stdout",
     "output_type": "stream",
     "text": [
      "enter a number: 4\n",
      "greetings!\n"
     ]
    }
   ],
   "source": [
    "spam = int(input(\"enter a number: \"))\n",
    "if spam == 1:\n",
    "    ptint(\"hello\")\n",
    "else:\n",
    "    if spam == 2:\n",
    "        ptint(\"howdy\")\n",
    "    else:\n",
    "        print(\"greetings!\")"
   ]
  },
  {
   "cell_type": "markdown",
   "id": "c5bc65aa",
   "metadata": {},
   "source": [
    "Q9."
   ]
  },
  {
   "cell_type": "markdown",
   "id": "a22b29a0",
   "metadata": {},
   "source": [
    "If programme stuck in an endless loop , we will press the ctrl+c key ."
   ]
  },
  {
   "cell_type": "markdown",
   "id": "cda48f5f",
   "metadata": {},
   "source": [
    "Q10."
   ]
  },
  {
   "cell_type": "markdown",
   "id": "6dd719a2",
   "metadata": {},
   "source": [
    "Break terminates the current loop and passes control to the next loop and continue skips the current iteration and execcutes the next one in the loop ."
   ]
  },
  {
   "cell_type": "markdown",
   "id": "a1c53fb6",
   "metadata": {},
   "source": [
    "Q11."
   ]
  },
  {
   "cell_type": "markdown",
   "id": "711f98f4",
   "metadata": {},
   "source": [
    "In a for loop , range(10) refers to call ranges from 0 upto 10(excluded) , range(0,10) refers the loop to starts at 0 and goes upto 10(excluded) , range(0,10,1) refers the loop stars at 0 , increase the variable by 1 on each iteration and goes upto 10 ."
   ]
  },
  {
   "cell_type": "markdown",
   "id": "773a8038",
   "metadata": {},
   "source": [
    "Q12."
   ]
  },
  {
   "cell_type": "code",
   "execution_count": 8,
   "id": "ac27f19f",
   "metadata": {},
   "outputs": [
    {
     "name": "stdout",
     "output_type": "stream",
     "text": [
      "1\n",
      "2\n",
      "3\n",
      "4\n",
      "5\n",
      "6\n",
      "7\n",
      "8\n",
      "9\n",
      "10\n"
     ]
    }
   ],
   "source": [
    "for i in range(1,11):\n",
    "    print(i)"
   ]
  },
  {
   "cell_type": "code",
   "execution_count": 10,
   "id": "1a3bf5a4",
   "metadata": {},
   "outputs": [
    {
     "name": "stdout",
     "output_type": "stream",
     "text": [
      "1\n",
      "2\n",
      "3\n",
      "4\n",
      "5\n",
      "6\n",
      "7\n",
      "8\n",
      "9\n",
      "10\n"
     ]
    }
   ],
   "source": [
    "a = 1\n",
    "while a < 11:\n",
    "    print(a)\n",
    "    a = a+1"
   ]
  },
  {
   "cell_type": "markdown",
   "id": "0aa89a40",
   "metadata": {},
   "source": [
    "Q13."
   ]
  },
  {
   "cell_type": "markdown",
   "id": "1e9f0e68",
   "metadata": {},
   "source": [
    "spam.bacon()"
   ]
  }
 ],
 "metadata": {
  "kernelspec": {
   "display_name": "Python 3 (ipykernel)",
   "language": "python",
   "name": "python3"
  },
  "language_info": {
   "codemirror_mode": {
    "name": "ipython",
    "version": 3
   },
   "file_extension": ".py",
   "mimetype": "text/x-python",
   "name": "python",
   "nbconvert_exporter": "python",
   "pygments_lexer": "ipython3",
   "version": "3.9.12"
  }
 },
 "nbformat": 4,
 "nbformat_minor": 5
}
