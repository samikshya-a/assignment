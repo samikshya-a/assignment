{
 "cells": [
  {
   "cell_type": "markdown",
   "id": "9f299366",
   "metadata": {},
   "source": [
    "Q1."
   ]
  },
  {
   "cell_type": "markdown",
   "id": "da516870",
   "metadata": {},
   "source": [
    "No, python standard library does not included with PyInputPlus"
   ]
  },
  {
   "cell_type": "markdown",
   "id": "10a0243f",
   "metadata": {},
   "source": [
    "Q2."
   ]
  },
  {
   "cell_type": "markdown",
   "id": "6f2d16db",
   "metadata": {},
   "source": [
    "PyInputPlus commonly imported with import PyInputPlus as pypi so that it will be easier to enter a shorter name while calling the module function"
   ]
  },
  {
   "cell_type": "markdown",
   "id": "1f61f5c3",
   "metadata": {},
   "source": [
    "Q3."
   ]
  },
  {
   "cell_type": "markdown",
   "id": "fecf9d5b",
   "metadata": {},
   "source": [
    "inputInt() accepts an integer value and inputFloat() accepts a floating point value . "
   ]
  },
  {
   "cell_type": "markdown",
   "id": "ec140364",
   "metadata": {},
   "source": [
    "Q4."
   ]
  },
  {
   "cell_type": "markdown",
   "id": "34356f52",
   "metadata": {},
   "source": [
    "By using pyip.inputint(min=0,max=99) we can ensure the user enters a whole number between 0 and 99."
   ]
  },
  {
   "cell_type": "markdown",
   "id": "5a695ce5",
   "metadata": {},
   "source": [
    "Q5."
   ]
  },
  {
   "cell_type": "markdown",
   "id": "cda4b370",
   "metadata": {},
   "source": [
    "The keyword arguments allowRegexes and blockRegexes take list of regular expression strings to determine what the PyInputPlus will reject or accept as valid input."
   ]
  },
  {
   "cell_type": "markdown",
   "id": "3e4019f4",
   "metadata": {},
   "source": [
    "Q6."
   ]
  },
  {
   "cell_type": "markdown",
   "id": "c481f232",
   "metadata": {},
   "source": [
    "If a blank input is entered three times, inputStr(limit=3) will throw RetryLimitException ."
   ]
  },
  {
   "cell_type": "markdown",
   "id": "672af219",
   "metadata": {},
   "source": [
    "Q7."
   ]
  },
  {
   "cell_type": "markdown",
   "id": "d1f4a942",
   "metadata": {},
   "source": [
    "If a blank input is entered three times, inputStr(limit=3,default='hello') will return hello "
   ]
  }
 ],
 "metadata": {
  "kernelspec": {
   "display_name": "Python 3 (ipykernel)",
   "language": "python",
   "name": "python3"
  },
  "language_info": {
   "codemirror_mode": {
    "name": "ipython",
    "version": 3
   },
   "file_extension": ".py",
   "mimetype": "text/x-python",
   "name": "python",
   "nbconvert_exporter": "python",
   "pygments_lexer": "ipython3",
   "version": "3.9.12"
  }
 },
 "nbformat": 4,
 "nbformat_minor": 5
}
