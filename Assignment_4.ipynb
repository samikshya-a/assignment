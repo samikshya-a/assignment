{
 "cells": [
  {
   "cell_type": "markdown",
   "id": "417d3762",
   "metadata": {},
   "source": [
    "Q1."
   ]
  },
  {
   "cell_type": "markdown",
   "id": "24d9ec81",
   "metadata": {},
   "source": [
    "[] is a list value containing no items ."
   ]
  },
  {
   "cell_type": "markdown",
   "id": "3453fc53",
   "metadata": {},
   "source": [
    "Q2."
   ]
  },
  {
   "cell_type": "code",
   "execution_count": 1,
   "id": "eb3ffafd",
   "metadata": {},
   "outputs": [
    {
     "data": {
      "text/plain": [
       "[2, 4, 'hello', 8, 10]"
      ]
     },
     "execution_count": 1,
     "metadata": {},
     "output_type": "execute_result"
    }
   ],
   "source": [
    "spam = [2,4,6,8,10]\n",
    "spam[2] = \"hello\"\n",
    "spam"
   ]
  },
  {
   "cell_type": "markdown",
   "id": "f3cba115",
   "metadata": {},
   "source": [
    "Q3."
   ]
  },
  {
   "cell_type": "code",
   "execution_count": 2,
   "id": "a43fb546",
   "metadata": {},
   "outputs": [
    {
     "data": {
      "text/plain": [
       "8"
      ]
     },
     "execution_count": 2,
     "metadata": {},
     "output_type": "execute_result"
    }
   ],
   "source": [
    "spam[int(int('3'*2)/11)]"
   ]
  },
  {
   "cell_type": "markdown",
   "id": "a76d8f37",
   "metadata": {},
   "source": [
    "Q4."
   ]
  },
  {
   "cell_type": "code",
   "execution_count": 3,
   "id": "d273f72d",
   "metadata": {},
   "outputs": [
    {
     "data": {
      "text/plain": [
       "10"
      ]
     },
     "execution_count": 3,
     "metadata": {},
     "output_type": "execute_result"
    }
   ],
   "source": [
    "spam[-1]"
   ]
  },
  {
   "cell_type": "markdown",
   "id": "a028ae36",
   "metadata": {},
   "source": [
    "Q5."
   ]
  },
  {
   "cell_type": "code",
   "execution_count": 4,
   "id": "3acac72f",
   "metadata": {},
   "outputs": [
    {
     "data": {
      "text/plain": [
       "[2, 4]"
      ]
     },
     "execution_count": 4,
     "metadata": {},
     "output_type": "execute_result"
    }
   ],
   "source": [
    "spam[:2]"
   ]
  },
  {
   "cell_type": "code",
   "execution_count": 6,
   "id": "c4569ad9",
   "metadata": {},
   "outputs": [
    {
     "data": {
      "text/plain": [
       "[3.14, 'cat', 11, 'cat', True]"
      ]
     },
     "execution_count": 6,
     "metadata": {},
     "output_type": "execute_result"
    }
   ],
   "source": [
    "bacon = [3.14,'cat',11,'cat',True]\n",
    "bacon"
   ]
  },
  {
   "cell_type": "markdown",
   "id": "7746cb75",
   "metadata": {},
   "source": [
    "Q6."
   ]
  },
  {
   "cell_type": "code",
   "execution_count": 7,
   "id": "0f3decac",
   "metadata": {},
   "outputs": [
    {
     "data": {
      "text/plain": [
       "1"
      ]
     },
     "execution_count": 7,
     "metadata": {},
     "output_type": "execute_result"
    }
   ],
   "source": [
    "bacon.index('cat')"
   ]
  },
  {
   "cell_type": "markdown",
   "id": "87dc0022",
   "metadata": {},
   "source": [
    "Q7."
   ]
  },
  {
   "cell_type": "code",
   "execution_count": 2,
   "id": "d19f7e45",
   "metadata": {},
   "outputs": [
    {
     "data": {
      "text/plain": [
       "[3.14, 'cat', 11, 'cat', True, 99]"
      ]
     },
     "execution_count": 2,
     "metadata": {},
     "output_type": "execute_result"
    }
   ],
   "source": [
    "bacon = [3.14,'cat',11,'cat',True]\n",
    "bacon.append(99)\n",
    "bacon"
   ]
  },
  {
   "cell_type": "markdown",
   "id": "c7e91659",
   "metadata": {},
   "source": [
    "Q8."
   ]
  },
  {
   "cell_type": "code",
   "execution_count": 4,
   "id": "7eb6e6b6",
   "metadata": {},
   "outputs": [
    {
     "data": {
      "text/plain": [
       "[3.14, 11, 'cat', True]"
      ]
     },
     "execution_count": 4,
     "metadata": {},
     "output_type": "execute_result"
    }
   ],
   "source": [
    "bacon = [3.14,'cat',11,'cat',True]\n",
    "bacon.remove('cat')\n",
    "bacon"
   ]
  },
  {
   "cell_type": "markdown",
   "id": "1bf710ce",
   "metadata": {},
   "source": [
    "Q9."
   ]
  },
  {
   "cell_type": "markdown",
   "id": "56403cda",
   "metadata": {},
   "source": [
    "list concatenation operator is + and list replication operator is * "
   ]
  },
  {
   "cell_type": "markdown",
   "id": "887c99cb",
   "metadata": {},
   "source": [
    "Q10."
   ]
  },
  {
   "cell_type": "markdown",
   "id": "7dc4c209",
   "metadata": {},
   "source": [
    "append() add the element only at the end of the list but insret() add the element at a specific index of the list ."
   ]
  },
  {
   "cell_type": "markdown",
   "id": "c7e8058a",
   "metadata": {},
   "source": [
    "Q11."
   ]
  },
  {
   "cell_type": "markdown",
   "id": "4e89399a",
   "metadata": {},
   "source": [
    "Two methods for removing items from a list is by using remove() and pop() "
   ]
  },
  {
   "cell_type": "markdown",
   "id": "dde9671f",
   "metadata": {},
   "source": [
    "Q12."
   ]
  },
  {
   "cell_type": "markdown",
   "id": "a21658b0",
   "metadata": {},
   "source": [
    "Some of the similarities between list values and string values are , both are sequences , both have length ."
   ]
  },
  {
   "cell_type": "markdown",
   "id": "9c3011f4",
   "metadata": {},
   "source": [
    "Q13."
   ]
  },
  {
   "cell_type": "markdown",
   "id": "f2c1171b",
   "metadata": {},
   "source": [
    "The difference between tuples and list is tuples are immutable but list are mutable "
   ]
  },
  {
   "cell_type": "markdown",
   "id": "337409a3",
   "metadata": {},
   "source": [
    "Q14."
   ]
  },
  {
   "cell_type": "markdown",
   "id": "2e212cc1",
   "metadata": {},
   "source": [
    "(42)"
   ]
  },
  {
   "cell_type": "markdown",
   "id": "e1716edc",
   "metadata": {},
   "source": [
    "Q15."
   ]
  },
  {
   "cell_type": "markdown",
   "id": "84b08d44",
   "metadata": {},
   "source": [
    "To get a list value's tuple form , we use tuple() and to get tuple value's list form , we use list() "
   ]
  },
  {
   "cell_type": "markdown",
   "id": "2934f4e6",
   "metadata": {},
   "source": [
    "Q16."
   ]
  },
  {
   "cell_type": "markdown",
   "id": "0eb88844",
   "metadata": {},
   "source": [
    "They contain reference to list value ."
   ]
  },
  {
   "cell_type": "markdown",
   "id": "4a6bde96",
   "metadata": {},
   "source": [
    "Q17."
   ]
  },
  {
   "cell_type": "markdown",
   "id": "acfec403",
   "metadata": {},
   "source": [
    "copy.copy() create reference to original object and copy.deepcopy() creates new object and insert it into the original one ."
   ]
  }
 ],
 "metadata": {
  "kernelspec": {
   "display_name": "Python 3 (ipykernel)",
   "language": "python",
   "name": "python3"
  },
  "language_info": {
   "codemirror_mode": {
    "name": "ipython",
    "version": 3
   },
   "file_extension": ".py",
   "mimetype": "text/x-python",
   "name": "python",
   "nbconvert_exporter": "python",
   "pygments_lexer": "ipython3",
   "version": "3.9.12"
  }
 },
 "nbformat": 4,
 "nbformat_minor": 5
}
