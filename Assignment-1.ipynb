{
 "cells": [
  {
   "cell_type": "markdown",
   "id": "0756981b",
   "metadata": {},
   "source": [
    "Q1.\n",
    "'hello' and -87.8 are values . *,-,/,+ are expression."
   ]
  },
  {
   "cell_type": "markdown",
   "id": "7054ac86",
   "metadata": {},
   "source": [
    "Q2.\n",
    "Variables are symbols to store information and string  is sort of information to store in a variable."
   ]
  },
  {
   "cell_type": "markdown",
   "id": "6a510bcc",
   "metadata": {},
   "source": [
    "Q3.\n",
    "The 3 different data types are numeric , boolean and sequence types .\n",
    "Numeric data type represents numeric valued data , it could be integer , float and complex numbers.\n",
    "Boolean data type has two values that is True or Flase .\n",
    "Sequence data type includes string , list and tuple ."
   ]
  },
  {
   "cell_type": "markdown",
   "id": "ee5eb300",
   "metadata": {},
   "source": [
    "Q4.\n",
    "An expression is made up of set of variables combined with operators which leads to produce some value . All expression represents some kind of value . "
   ]
  },
  {
   "cell_type": "markdown",
   "id": "32f5c588",
   "metadata": {},
   "source": [
    "Q5.\n",
    "The difference between an expression and a statement is, an expression always evaluates or returns a value where as a statement does not , it only displays a value ."
   ]
  },
  {
   "cell_type": "markdown",
   "id": "30c9e928",
   "metadata": {},
   "source": [
    "Q6."
   ]
  },
  {
   "cell_type": "code",
   "execution_count": 1,
   "id": "8b8fd28f",
   "metadata": {},
   "outputs": [
    {
     "data": {
      "text/plain": [
       "23"
      ]
     },
     "execution_count": 1,
     "metadata": {},
     "output_type": "execute_result"
    }
   ],
   "source": [
    "bacon = 22\n",
    "bacon+1"
   ]
  },
  {
   "cell_type": "markdown",
   "id": "d693e3c2",
   "metadata": {},
   "source": [
    "Q7."
   ]
  },
  {
   "cell_type": "code",
   "execution_count": 2,
   "id": "ff71475a",
   "metadata": {},
   "outputs": [
    {
     "data": {
      "text/plain": [
       "'spamspamspam'"
      ]
     },
     "execution_count": 2,
     "metadata": {},
     "output_type": "execute_result"
    }
   ],
   "source": [
    "'spam'+'spamspam'"
   ]
  },
  {
   "cell_type": "code",
   "execution_count": 3,
   "id": "7a5440e7",
   "metadata": {},
   "outputs": [
    {
     "data": {
      "text/plain": [
       "'spamspamspam'"
      ]
     },
     "execution_count": 3,
     "metadata": {},
     "output_type": "execute_result"
    }
   ],
   "source": [
    "'spam'*3"
   ]
  },
  {
   "cell_type": "markdown",
   "id": "2c77cac9",
   "metadata": {},
   "source": [
    "Q8.\n",
    "There is rule for a valid variable name that a variable can not start with a number . So egg is a valid variable name while 100 is invalid ."
   ]
  },
  {
   "cell_type": "markdown",
   "id": "ce0e30dd",
   "metadata": {},
   "source": [
    "Q9.\n",
    "The functions to get the integer , floating point number or string version of a value are int(),float() and str() respectively ."
   ]
  },
  {
   "cell_type": "markdown",
   "id": "d2e64b8e",
   "metadata": {},
   "source": [
    "Q10.\n",
    "'i have eaten'+99+'burritos' this expression cause an error because string can be concatenate with a string only and 99 is an integer . \n",
    "The right expression would be 'i have eaten'+'99'+'burritos'"
   ]
  },
  {
   "cell_type": "code",
   "execution_count": 5,
   "id": "c35885a8",
   "metadata": {},
   "outputs": [
    {
     "data": {
      "text/plain": [
       "'i have eaten99burritos'"
      ]
     },
     "execution_count": 5,
     "metadata": {},
     "output_type": "execute_result"
    }
   ],
   "source": [
    "'i have eaten'+'99'+'burritos'"
   ]
  }
 ],
 "metadata": {
  "kernelspec": {
   "display_name": "Python 3 (ipykernel)",
   "language": "python",
   "name": "python3"
  },
  "language_info": {
   "codemirror_mode": {
    "name": "ipython",
    "version": 3
   },
   "file_extension": ".py",
   "mimetype": "text/x-python",
   "name": "python",
   "nbconvert_exporter": "python",
   "pygments_lexer": "ipython3",
   "version": "3.9.12"
  }
 },
 "nbformat": 4,
 "nbformat_minor": 5
}
