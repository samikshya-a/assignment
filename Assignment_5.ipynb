{
 "cells": [
  {
   "cell_type": "markdown",
   "id": "dd365c09",
   "metadata": {},
   "source": [
    "Q1."
   ]
  },
  {
   "cell_type": "markdown",
   "id": "db7aeca3",
   "metadata": {},
   "source": [
    "An empty dictionary code looks like dict()"
   ]
  },
  {
   "cell_type": "markdown",
   "id": "093876a2",
   "metadata": {},
   "source": [
    "Q2."
   ]
  },
  {
   "cell_type": "markdown",
   "id": "7487110c",
   "metadata": {},
   "source": [
    "{'foo':42}"
   ]
  },
  {
   "cell_type": "markdown",
   "id": "4016c678",
   "metadata": {},
   "source": [
    "Q3."
   ]
  },
  {
   "cell_type": "markdown",
   "id": "c6db5e32",
   "metadata": {},
   "source": [
    "The most significant distinction between a dictionary and a list is , dictionary is represented by {} but list is represented by [] and list is an ordered sequence where as dictionary is unordered ."
   ]
  },
  {
   "cell_type": "markdown",
   "id": "affaf6f0",
   "metadata": {},
   "source": [
    "Q4."
   ]
  },
  {
   "cell_type": "code",
   "execution_count": 4,
   "id": "1c6a036f",
   "metadata": {},
   "outputs": [
    {
     "ename": "KeyError",
     "evalue": "'foo'",
     "output_type": "error",
     "traceback": [
      "\u001b[1;31m---------------------------------------------------------------------------\u001b[0m",
      "\u001b[1;31mKeyError\u001b[0m                                  Traceback (most recent call last)",
      "Input \u001b[1;32mIn [4]\u001b[0m, in \u001b[0;36m<cell line: 2>\u001b[1;34m()\u001b[0m\n\u001b[0;32m      1\u001b[0m spam \u001b[38;5;241m=\u001b[39m {\u001b[38;5;124m'\u001b[39m\u001b[38;5;124mbar\u001b[39m\u001b[38;5;124m'\u001b[39m:\u001b[38;5;241m100\u001b[39m}\n\u001b[1;32m----> 2\u001b[0m \u001b[43mspam\u001b[49m\u001b[43m[\u001b[49m\u001b[38;5;124;43m'\u001b[39;49m\u001b[38;5;124;43mfoo\u001b[39;49m\u001b[38;5;124;43m'\u001b[39;49m\u001b[43m]\u001b[49m\n",
      "\u001b[1;31mKeyError\u001b[0m: 'foo'"
     ]
    }
   ],
   "source": [
    "spam = {'bar':100}\n",
    "spam['foo']\n"
   ]
  },
  {
   "cell_type": "markdown",
   "id": "547d839c",
   "metadata": {},
   "source": [
    "Q5."
   ]
  },
  {
   "cell_type": "markdown",
   "id": "e366cddb",
   "metadata": {},
   "source": [
    "There is no difference . "
   ]
  },
  {
   "cell_type": "markdown",
   "id": "4735fc8e",
   "metadata": {},
   "source": [
    "Q6."
   ]
  },
  {
   "cell_type": "markdown",
   "id": "7493b3f4",
   "metadata": {},
   "source": [
    "'cat' in spam checks whether 'cat' exists as a key in spam .\n",
    "'cat' in spam.values() checks whether 'cat' is a value in spam ."
   ]
  },
  {
   "cell_type": "markdown",
   "id": "2e46e9fb",
   "metadata": {},
   "source": [
    "Q7."
   ]
  },
  {
   "cell_type": "markdown",
   "id": "db4e7101",
   "metadata": {},
   "source": [
    "if 'color' not in spam:\n",
    "    spam['color'] = 'black'\n",
    "the shortcut for the code is spam.setdefault('color','black')"
   ]
  },
  {
   "cell_type": "markdown",
   "id": "5e144642",
   "metadata": {},
   "source": [
    "Q8."
   ]
  },
  {
   "cell_type": "markdown",
   "id": "56771d5f",
   "metadata": {},
   "source": [
    "pprint.pprint()"
   ]
  }
 ],
 "metadata": {
  "kernelspec": {
   "display_name": "Python 3 (ipykernel)",
   "language": "python",
   "name": "python3"
  },
  "language_info": {
   "codemirror_mode": {
    "name": "ipython",
    "version": 3
   },
   "file_extension": ".py",
   "mimetype": "text/x-python",
   "name": "python",
   "nbconvert_exporter": "python",
   "pygments_lexer": "ipython3",
   "version": "3.9.12"
  }
 },
 "nbformat": 4,
 "nbformat_minor": 5
}
